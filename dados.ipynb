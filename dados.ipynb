{
 "cells": [
  {
   "cell_type": "markdown",
   "id": "48d249b5",
   "metadata": {},
   "source": [
    "# Compet - Formação 4.0\n",
    "\n",
    "Aluna: Ruth Xavier"
   ]
  },
  {
   "cell_type": "markdown",
   "id": "efe8a7b1",
   "metadata": {},
   "source": [
    "### Carregando o conjunto de dados"
   ]
  },
  {
   "cell_type": "markdown",
   "id": "633fc2fd",
   "metadata": {},
   "source": [
    "**Base escolhida:** Adequação da Formação Docente (2024)\n",
    "\n",
    "**Descrição:** Percentual de docentes na Educação Infantil (Creche e Pré-Escola), no Ensino Fundamental, no Ensino Médio e Educação de Jovens e Adultos por grupo de adequação da formação à disciplina que leciona, segundo localização e dependência administrativa - Brasil, Regiões Geográficas e Unidades da Federação - 2024"
   ]
  },
  {
   "cell_type": "markdown",
   "id": "84fb29ad",
   "metadata": {},
   "source": [
    "#### Dicionário dos dados: \n",
    "\n",
    "01. NU_ANO_CENSO: Ano em que foi realizado o censo;\n",
    "02. UNIDGEO: Unidade Geográfica; \n",
    "03. NO_CATEGORIA: Categorizando em zona Rural, Urbana e Total; \n",
    "04. NO_DEPENDENCIA: Dependência administrativa; \n",
    "05. ED_INF_CAT_1: Educação Infantil Grupo 1; \n",
    "06. ED_INF_CAT_2: Educação Infantil Grupo 2; \n",
    "07. ED_INF_CAT_3: Educação Infantil Grupo 3; \n",
    "08. ED_INF_CAT_4: Educação Infantil Grupo 5;\n",
    "09. FUN_CAT_1: Ensino Fundamental Grupo 1 total;  \n",
    "10. FUN_CAT_2: Ensino Fundamental Grupo 2 total;\n",
    "11. FUN_CAT_3: Ensino Fundamental Grupo 3 total; \n",
    "12. FUN_CAT_4: Ensino Fundamental Grupo 4 total;  \n",
    "13. FUN_CAT_5: Ensino Fundamental Grupo 5 total; \n",
    "14. FUN_AI_CAT_1: Ensino Fundamental Grupo 1 - Anos Iniciais; \n",
    "15. FUN_AI_CAT_2: Ensino Fundamental Grupo 2 - Anos Iniciais; \n",
    "16. FUN_AI_CAT_3: Ensino Fundamental Grupo 3 - Anos Iniciais; \n",
    "17. FUN_AI_CAT_4: Ensino Fundamental Grupo 4 - Anos Iniciais; \n",
    "18. FUN_AI_CAT_5: Ensino Fundamental Grupo 5 - Anos Iniciais; \n",
    "19. FUN_AF_CAT_1: Ensino Fundamental Grupo 1 - Anos Finais;\n",
    "20. FUN_AF_CAT_2: Ensino Fundamental Grupo 2 - Anos Finais;\n",
    "21. FUN_AF_CAT_3: Ensino Fundamental Grupo 3 - Anos Finais;\n",
    "22. FUN_AF_CAT_4: Ensino Fundamental Grupo 4 - Anos Finais;\n",
    "23. FUN_AF_CAT_5: Ensino Fundamental Grupo 5 - Anos Finais;\n",
    "24. MED_CAT_1: Ensino Médio Grupo 1; \n",
    "25. MED_CAT_2: Ensino Médio Grupo 2;\n",
    "26. MED_CAT_3: Ensino Médio Grupo 3;\n",
    "27. MED_CAT_4: Ensino Médio Grupo 4;\n",
    "28. MED_CAT_5: Ensino Médio Grupo 5;\n",
    "29. EJA_FUN_CAT_1: Educação de Jovens e Adultos Grupo 1 - Ensino Fundamental;\n",
    "30. EJA_FUN_CAT_2: Educação de Jovens e Adultos Grupo 2 - Ensino Fundamental;\n",
    "31. EJA_FUN_CAT_3: Educação de Jovens e Adultos Grupo 3 - Ensino Fundamental;\n",
    "32. EJA_FUN_CAT_4: Educação de Jovens e Adultos Grupo 4 - Ensino Fundamental;\n",
    "33. EJA_FUN_CAT_5: Educação de Jovens e Adultos Grupo 5 - Ensino Fundamental;\n",
    "34. EJA_MED_CAT_1: Educação de Jovens e Adultos Grupo 1 - Ensino Médio;\n",
    "35. EJA_MED_CAT_2: Educação de Jovens e Adultos Grupo 2 - Ensino Médio;\n",
    "36. EJA_MED_CAT_3: Educação de Jovens e Adultos Grupo 3 - Ensino Médio;\n",
    "37. EJA_MED_CAT_4: Educação de Jovens e Adultos Grupo 4 - Ensino Médio;\n",
    "38. EJA_MED_CAT_5: Educação de Jovens e Adultos Grupo 5 - Ensino Médio;\n",
    "39. EJA_MED_CAT_1: Educação de Jovens e Adultos Grupo 1 - Ensino Médio;"
   ]
  },
  {
   "cell_type": "code",
   "execution_count": 4,
   "id": "ed2710d9",
   "metadata": {},
   "outputs": [],
   "source": [
    "# importando biblioteca\n",
    "\n",
    "import pandas as pd"
   ]
  },
  {
   "cell_type": "code",
   "execution_count": 5,
   "id": "cdae8226",
   "metadata": {},
   "outputs": [],
   "source": [
    "afd = pd.read_excel('datasets/AFD_BRASIL_REGIOES_UFS_2024.xlsx', skiprows=10)"
   ]
  },
  {
   "cell_type": "code",
   "execution_count": 6,
   "id": "b2aa2a79",
   "metadata": {},
   "outputs": [
    {
     "data": {
      "application/vnd.microsoft.datawrangler.viewer.v0+json": {
       "columns": [
        {
         "name": "index",
         "rawType": "int64",
         "type": "integer"
        },
        {
         "name": "NU_ANO_CENSO",
         "rawType": "object",
         "type": "unknown"
        },
        {
         "name": "UNIDGEO",
         "rawType": "object",
         "type": "string"
        },
        {
         "name": "NO_CATEGORIA",
         "rawType": "object",
         "type": "string"
        },
        {
         "name": "NO_DEPENDENCIA",
         "rawType": "object",
         "type": "string"
        },
        {
         "name": "ED_INF_CAT_1",
         "rawType": "object",
         "type": "unknown"
        },
        {
         "name": "ED_INF_CAT_2",
         "rawType": "object",
         "type": "unknown"
        },
        {
         "name": "ED_INF_CAT_3",
         "rawType": "object",
         "type": "unknown"
        },
        {
         "name": "ED_INF_CAT_4",
         "rawType": "object",
         "type": "unknown"
        },
        {
         "name": "ED_INF_CAT_5",
         "rawType": "object",
         "type": "unknown"
        },
        {
         "name": "FUN_CAT_1",
         "rawType": "object",
         "type": "unknown"
        },
        {
         "name": "FUN_CAT_2",
         "rawType": "object",
         "type": "unknown"
        },
        {
         "name": "FUN_CAT_3",
         "rawType": "object",
         "type": "unknown"
        },
        {
         "name": "FUN_CAT_4",
         "rawType": "object",
         "type": "unknown"
        },
        {
         "name": "FUN_CAT_5",
         "rawType": "object",
         "type": "unknown"
        },
        {
         "name": "FUN_AI_CAT_1",
         "rawType": "object",
         "type": "unknown"
        },
        {
         "name": "FUN_AI_CAT_2",
         "rawType": "object",
         "type": "unknown"
        },
        {
         "name": "FUN_AI_CAT_3",
         "rawType": "object",
         "type": "unknown"
        },
        {
         "name": "FUN_AI_CAT_4",
         "rawType": "object",
         "type": "unknown"
        },
        {
         "name": "FUN_AI_CAT_5",
         "rawType": "object",
         "type": "unknown"
        },
        {
         "name": "FUN_AF_CAT_1",
         "rawType": "object",
         "type": "unknown"
        },
        {
         "name": "FUN_AF_CAT_2",
         "rawType": "object",
         "type": "unknown"
        },
        {
         "name": "FUN_AF_CAT_3",
         "rawType": "object",
         "type": "unknown"
        },
        {
         "name": "FUN_AF_CAT_4",
         "rawType": "object",
         "type": "unknown"
        },
        {
         "name": "FUN_AF_CAT_5",
         "rawType": "object",
         "type": "unknown"
        },
        {
         "name": "MED_CAT_1",
         "rawType": "object",
         "type": "unknown"
        },
        {
         "name": "MED_CAT_2",
         "rawType": "object",
         "type": "unknown"
        },
        {
         "name": "MED_CAT_3",
         "rawType": "object",
         "type": "unknown"
        },
        {
         "name": "MED_CAT_4",
         "rawType": "object",
         "type": "unknown"
        },
        {
         "name": "MED_CAT_5",
         "rawType": "object",
         "type": "unknown"
        },
        {
         "name": "EJA_FUN_CAT_1",
         "rawType": "object",
         "type": "unknown"
        },
        {
         "name": "EJA_FUN_CAT_2",
         "rawType": "object",
         "type": "unknown"
        },
        {
         "name": "EJA_FUN_CAT_3",
         "rawType": "object",
         "type": "unknown"
        },
        {
         "name": "EJA_FUN_CAT_4",
         "rawType": "object",
         "type": "unknown"
        },
        {
         "name": "EJA_FUN_CAT_5",
         "rawType": "object",
         "type": "unknown"
        },
        {
         "name": "EJA_MED_CAT_1",
         "rawType": "object",
         "type": "unknown"
        },
        {
         "name": "EJA_MED_CAT_2",
         "rawType": "object",
         "type": "unknown"
        },
        {
         "name": "EJA_MED_CAT_3",
         "rawType": "object",
         "type": "unknown"
        },
        {
         "name": "EJA_MED_CAT_4",
         "rawType": "object",
         "type": "unknown"
        },
        {
         "name": "EJA_MED_CAT_5",
         "rawType": "object",
         "type": "unknown"
        }
       ],
       "conversionMethod": "pd.DataFrame",
       "ref": "73c2a441-0b3e-4787-b799-6e16cfe25a66",
       "rows": [
        [
         "0",
         "2024",
         "Brasil",
         "Total",
         "Total",
         "64.1",
         "0.7",
         "17.8",
         "1.8",
         "15.6",
         "68.8",
         "1.1",
         "17.5",
         "1.9",
         "10.7",
         "75.3",
         "1.2",
         "8.9",
         "1.8",
         "12.8",
         "60.4",
         "1.1",
         "28.6",
         "2.1",
         "7.8",
         "68.4",
         "1.6",
         "24.1",
         "2.7",
         "3.2",
         "27",
         "0.5",
         "44.6",
         "2.4",
         "25.5",
         "56.1",
         "1.1",
         "36.1",
         "3.1",
         "3.6"
        ],
        [
         "1",
         "2024",
         "Brasil",
         "Urbana",
         "Total",
         "64.7",
         "0.7",
         "18.2",
         "1.9",
         "14.5",
         "73.3",
         "1.2",
         "15",
         "1.8",
         "8.7",
         "76.8",
         "1.2",
         "8.8",
         "1.8",
         "11.4",
         "68.5",
         "1.3",
         "23.8",
         "1.9",
         "4.5",
         "69.9",
         "1.6",
         "23.1",
         "2.5",
         "2.9",
         "35.5",
         "0.7",
         "47.9",
         "2.7",
         "13.2",
         "57.9",
         "1.2",
         "35.1",
         "3.1",
         "2.7"
        ],
        [
         "2",
         "2024",
         "Brasil",
         "Rural",
         "Total",
         "57.9",
         "0.9",
         "14.1",
         "1.7",
         "25.4",
         "46.6",
         "0.7",
         "29.9",
         "2.3",
         "20.5",
         "66.2",
         "1",
         "9.7",
         "2",
         "21.1",
         "30.5",
         "0.4",
         "46.4",
         "2.6",
         "20.1",
         "50.8",
         "1",
         "35.3",
         "5.8",
         "7.1",
         "10",
         "0.1",
         "38.1",
         "1.8",
         "50",
         "38.4",
         "0.6",
         "46",
         "3.6",
         "11.4"
        ],
        [
         "3",
         "2024",
         "Brasil",
         "Total",
         "Federal",
         "56.4",
         "2.3",
         "26.3",
         "7.7",
         "7.3",
         "87.2",
         "4.4",
         "4.6",
         "1",
         "2.8",
         "82.4",
         "6.5",
         "5.4",
         "0.5",
         "5.2",
         "89.4",
         "3.5",
         "4.3",
         "1.3",
         "1.5",
         "80.2",
         "8.2",
         "6.7",
         "3.9",
         "1",
         "68.9",
         "6",
         "17.5",
         "5.5",
         "2.1",
         "83.3",
         "6.7",
         "6.4",
         "2.9",
         "0.7"
        ],
        [
         "4",
         "2024",
         "Brasil",
         "Urbana",
         "Federal",
         "55.8",
         "2.4",
         "26.7",
         "7.9",
         "7.2",
         "87.2",
         "4.4",
         "4.6",
         "1",
         "2.8",
         "82.4",
         "6.5",
         "5.4",
         "0.5",
         "5.2",
         "89.4",
         "3.5",
         "4.3",
         "1.3",
         "1.5",
         "80.6",
         "8.1",
         "6.3",
         "4",
         "1",
         "68.9",
         "6",
         "17.5",
         "5.5",
         "2.1",
         "83.2",
         "6.8",
         "6.3",
         "3",
         "0.7"
        ]
       ],
       "shape": {
        "columns": 39,
        "rows": 5
       }
      },
      "text/html": [
       "<div>\n",
       "<style scoped>\n",
       "    .dataframe tbody tr th:only-of-type {\n",
       "        vertical-align: middle;\n",
       "    }\n",
       "\n",
       "    .dataframe tbody tr th {\n",
       "        vertical-align: top;\n",
       "    }\n",
       "\n",
       "    .dataframe thead th {\n",
       "        text-align: right;\n",
       "    }\n",
       "</style>\n",
       "<table border=\"1\" class=\"dataframe\">\n",
       "  <thead>\n",
       "    <tr style=\"text-align: right;\">\n",
       "      <th></th>\n",
       "      <th>NU_ANO_CENSO</th>\n",
       "      <th>UNIDGEO</th>\n",
       "      <th>NO_CATEGORIA</th>\n",
       "      <th>NO_DEPENDENCIA</th>\n",
       "      <th>ED_INF_CAT_1</th>\n",
       "      <th>ED_INF_CAT_2</th>\n",
       "      <th>ED_INF_CAT_3</th>\n",
       "      <th>ED_INF_CAT_4</th>\n",
       "      <th>ED_INF_CAT_5</th>\n",
       "      <th>FUN_CAT_1</th>\n",
       "      <th>...</th>\n",
       "      <th>EJA_FUN_CAT_1</th>\n",
       "      <th>EJA_FUN_CAT_2</th>\n",
       "      <th>EJA_FUN_CAT_3</th>\n",
       "      <th>EJA_FUN_CAT_4</th>\n",
       "      <th>EJA_FUN_CAT_5</th>\n",
       "      <th>EJA_MED_CAT_1</th>\n",
       "      <th>EJA_MED_CAT_2</th>\n",
       "      <th>EJA_MED_CAT_3</th>\n",
       "      <th>EJA_MED_CAT_4</th>\n",
       "      <th>EJA_MED_CAT_5</th>\n",
       "    </tr>\n",
       "  </thead>\n",
       "  <tbody>\n",
       "    <tr>\n",
       "      <th>0</th>\n",
       "      <td>2024</td>\n",
       "      <td>Brasil</td>\n",
       "      <td>Total</td>\n",
       "      <td>Total</td>\n",
       "      <td>64.1</td>\n",
       "      <td>0.7</td>\n",
       "      <td>17.8</td>\n",
       "      <td>1.8</td>\n",
       "      <td>15.6</td>\n",
       "      <td>68.8</td>\n",
       "      <td>...</td>\n",
       "      <td>27</td>\n",
       "      <td>0.5</td>\n",
       "      <td>44.6</td>\n",
       "      <td>2.4</td>\n",
       "      <td>25.5</td>\n",
       "      <td>56.1</td>\n",
       "      <td>1.1</td>\n",
       "      <td>36.1</td>\n",
       "      <td>3.1</td>\n",
       "      <td>3.6</td>\n",
       "    </tr>\n",
       "    <tr>\n",
       "      <th>1</th>\n",
       "      <td>2024</td>\n",
       "      <td>Brasil</td>\n",
       "      <td>Urbana</td>\n",
       "      <td>Total</td>\n",
       "      <td>64.7</td>\n",
       "      <td>0.7</td>\n",
       "      <td>18.2</td>\n",
       "      <td>1.9</td>\n",
       "      <td>14.5</td>\n",
       "      <td>73.3</td>\n",
       "      <td>...</td>\n",
       "      <td>35.5</td>\n",
       "      <td>0.7</td>\n",
       "      <td>47.9</td>\n",
       "      <td>2.7</td>\n",
       "      <td>13.2</td>\n",
       "      <td>57.9</td>\n",
       "      <td>1.2</td>\n",
       "      <td>35.1</td>\n",
       "      <td>3.1</td>\n",
       "      <td>2.7</td>\n",
       "    </tr>\n",
       "    <tr>\n",
       "      <th>2</th>\n",
       "      <td>2024</td>\n",
       "      <td>Brasil</td>\n",
       "      <td>Rural</td>\n",
       "      <td>Total</td>\n",
       "      <td>57.9</td>\n",
       "      <td>0.9</td>\n",
       "      <td>14.1</td>\n",
       "      <td>1.7</td>\n",
       "      <td>25.4</td>\n",
       "      <td>46.6</td>\n",
       "      <td>...</td>\n",
       "      <td>10</td>\n",
       "      <td>0.1</td>\n",
       "      <td>38.1</td>\n",
       "      <td>1.8</td>\n",
       "      <td>50</td>\n",
       "      <td>38.4</td>\n",
       "      <td>0.6</td>\n",
       "      <td>46</td>\n",
       "      <td>3.6</td>\n",
       "      <td>11.4</td>\n",
       "    </tr>\n",
       "    <tr>\n",
       "      <th>3</th>\n",
       "      <td>2024</td>\n",
       "      <td>Brasil</td>\n",
       "      <td>Total</td>\n",
       "      <td>Federal</td>\n",
       "      <td>56.4</td>\n",
       "      <td>2.3</td>\n",
       "      <td>26.3</td>\n",
       "      <td>7.7</td>\n",
       "      <td>7.3</td>\n",
       "      <td>87.2</td>\n",
       "      <td>...</td>\n",
       "      <td>68.9</td>\n",
       "      <td>6</td>\n",
       "      <td>17.5</td>\n",
       "      <td>5.5</td>\n",
       "      <td>2.1</td>\n",
       "      <td>83.3</td>\n",
       "      <td>6.7</td>\n",
       "      <td>6.4</td>\n",
       "      <td>2.9</td>\n",
       "      <td>0.7</td>\n",
       "    </tr>\n",
       "    <tr>\n",
       "      <th>4</th>\n",
       "      <td>2024</td>\n",
       "      <td>Brasil</td>\n",
       "      <td>Urbana</td>\n",
       "      <td>Federal</td>\n",
       "      <td>55.8</td>\n",
       "      <td>2.4</td>\n",
       "      <td>26.7</td>\n",
       "      <td>7.9</td>\n",
       "      <td>7.2</td>\n",
       "      <td>87.2</td>\n",
       "      <td>...</td>\n",
       "      <td>68.9</td>\n",
       "      <td>6</td>\n",
       "      <td>17.5</td>\n",
       "      <td>5.5</td>\n",
       "      <td>2.1</td>\n",
       "      <td>83.2</td>\n",
       "      <td>6.8</td>\n",
       "      <td>6.3</td>\n",
       "      <td>3</td>\n",
       "      <td>0.7</td>\n",
       "    </tr>\n",
       "  </tbody>\n",
       "</table>\n",
       "<p>5 rows × 39 columns</p>\n",
       "</div>"
      ],
      "text/plain": [
       "  NU_ANO_CENSO UNIDGEO NO_CATEGORIA NO_DEPENDENCIA ED_INF_CAT_1 ED_INF_CAT_2  \\\n",
       "0         2024  Brasil        Total          Total         64.1          0.7   \n",
       "1         2024  Brasil       Urbana          Total         64.7          0.7   \n",
       "2         2024  Brasil        Rural          Total         57.9          0.9   \n",
       "3         2024  Brasil        Total        Federal         56.4          2.3   \n",
       "4         2024  Brasil       Urbana        Federal         55.8          2.4   \n",
       "\n",
       "  ED_INF_CAT_3 ED_INF_CAT_4 ED_INF_CAT_5 FUN_CAT_1  ... EJA_FUN_CAT_1  \\\n",
       "0         17.8          1.8         15.6      68.8  ...            27   \n",
       "1         18.2          1.9         14.5      73.3  ...          35.5   \n",
       "2         14.1          1.7         25.4      46.6  ...            10   \n",
       "3         26.3          7.7          7.3      87.2  ...          68.9   \n",
       "4         26.7          7.9          7.2      87.2  ...          68.9   \n",
       "\n",
       "  EJA_FUN_CAT_2 EJA_FUN_CAT_3 EJA_FUN_CAT_4 EJA_FUN_CAT_5 EJA_MED_CAT_1  \\\n",
       "0           0.5          44.6           2.4          25.5          56.1   \n",
       "1           0.7          47.9           2.7          13.2          57.9   \n",
       "2           0.1          38.1           1.8            50          38.4   \n",
       "3             6          17.5           5.5           2.1          83.3   \n",
       "4             6          17.5           5.5           2.1          83.2   \n",
       "\n",
       "  EJA_MED_CAT_2 EJA_MED_CAT_3 EJA_MED_CAT_4 EJA_MED_CAT_5  \n",
       "0           1.1          36.1           3.1           3.6  \n",
       "1           1.2          35.1           3.1           2.7  \n",
       "2           0.6            46           3.6          11.4  \n",
       "3           6.7           6.4           2.9           0.7  \n",
       "4           6.8           6.3             3           0.7  \n",
       "\n",
       "[5 rows x 39 columns]"
      ]
     },
     "execution_count": 6,
     "metadata": {},
     "output_type": "execute_result"
    }
   ],
   "source": [
    "afd.head()"
   ]
  },
  {
   "cell_type": "code",
   "execution_count": 7,
   "id": "a16baa23",
   "metadata": {},
   "outputs": [
    {
     "name": "stdout",
     "output_type": "stream",
     "text": [
      "<class 'pandas.core.frame.DataFrame'>\n",
      "RangeIndex: 595 entries, 0 to 594\n",
      "Data columns (total 39 columns):\n",
      " #   Column          Non-Null Count  Dtype \n",
      "---  ------          --------------  ----- \n",
      " 0   NU_ANO_CENSO    594 non-null    object\n",
      " 1   UNIDGEO         588 non-null    object\n",
      " 2   NO_CATEGORIA    588 non-null    object\n",
      " 3   NO_DEPENDENCIA  588 non-null    object\n",
      " 4   ED_INF_CAT_1    588 non-null    object\n",
      " 5   ED_INF_CAT_2    588 non-null    object\n",
      " 6   ED_INF_CAT_3    588 non-null    object\n",
      " 7   ED_INF_CAT_4    588 non-null    object\n",
      " 8   ED_INF_CAT_5    588 non-null    object\n",
      " 9   FUN_CAT_1       588 non-null    object\n",
      " 10  FUN_CAT_2       588 non-null    object\n",
      " 11  FUN_CAT_3       588 non-null    object\n",
      " 12  FUN_CAT_4       588 non-null    object\n",
      " 13  FUN_CAT_5       588 non-null    object\n",
      " 14  FUN_AI_CAT_1    588 non-null    object\n",
      " 15  FUN_AI_CAT_2    588 non-null    object\n",
      " 16  FUN_AI_CAT_3    588 non-null    object\n",
      " 17  FUN_AI_CAT_4    588 non-null    object\n",
      " 18  FUN_AI_CAT_5    588 non-null    object\n",
      " 19  FUN_AF_CAT_1    588 non-null    object\n",
      " 20  FUN_AF_CAT_2    588 non-null    object\n",
      " 21  FUN_AF_CAT_3    588 non-null    object\n",
      " 22  FUN_AF_CAT_4    588 non-null    object\n",
      " 23  FUN_AF_CAT_5    588 non-null    object\n",
      " 24  MED_CAT_1       588 non-null    object\n",
      " 25  MED_CAT_2       588 non-null    object\n",
      " 26  MED_CAT_3       588 non-null    object\n",
      " 27  MED_CAT_4       588 non-null    object\n",
      " 28  MED_CAT_5       588 non-null    object\n",
      " 29  EJA_FUN_CAT_1   588 non-null    object\n",
      " 30  EJA_FUN_CAT_2   588 non-null    object\n",
      " 31  EJA_FUN_CAT_3   588 non-null    object\n",
      " 32  EJA_FUN_CAT_4   588 non-null    object\n",
      " 33  EJA_FUN_CAT_5   588 non-null    object\n",
      " 34  EJA_MED_CAT_1   588 non-null    object\n",
      " 35  EJA_MED_CAT_2   588 non-null    object\n",
      " 36  EJA_MED_CAT_3   588 non-null    object\n",
      " 37  EJA_MED_CAT_4   588 non-null    object\n",
      " 38  EJA_MED_CAT_5   588 non-null    object\n",
      "dtypes: object(39)\n",
      "memory usage: 181.4+ KB\n"
     ]
    }
   ],
   "source": [
    "afd.info() "
   ]
  },
  {
   "cell_type": "code",
   "execution_count": 9,
   "id": "53307ac1",
   "metadata": {},
   "outputs": [
    {
     "data": {
      "text/plain": [
       "True"
      ]
     },
     "execution_count": 9,
     "metadata": {},
     "output_type": "execute_result"
    }
   ],
   "source": [
    "# Verificando a existência de dados nulos\n",
    "afd.isna().any().any()"
   ]
  },
  {
   "cell_type": "code",
   "execution_count": null,
   "id": "2d5a24c2",
   "metadata": {},
   "outputs": [
    {
     "data": {
      "text/plain": [
       "NU_ANO_CENSO      1\n",
       "UNIDGEO           7\n",
       "NO_CATEGORIA      7\n",
       "NO_DEPENDENCIA    7\n",
       "ED_INF_CAT_1      7\n",
       "ED_INF_CAT_2      7\n",
       "ED_INF_CAT_3      7\n",
       "ED_INF_CAT_4      7\n",
       "ED_INF_CAT_5      7\n",
       "FUN_CAT_1         7\n",
       "FUN_CAT_2         7\n",
       "FUN_CAT_3         7\n",
       "FUN_CAT_4         7\n",
       "FUN_CAT_5         7\n",
       "FUN_AI_CAT_1      7\n",
       "FUN_AI_CAT_2      7\n",
       "FUN_AI_CAT_3      7\n",
       "FUN_AI_CAT_4      7\n",
       "FUN_AI_CAT_5      7\n",
       "FUN_AF_CAT_1      7\n",
       "FUN_AF_CAT_2      7\n",
       "FUN_AF_CAT_3      7\n",
       "FUN_AF_CAT_4      7\n",
       "FUN_AF_CAT_5      7\n",
       "MED_CAT_1         7\n",
       "MED_CAT_2         7\n",
       "MED_CAT_3         7\n",
       "MED_CAT_4         7\n",
       "MED_CAT_5         7\n",
       "EJA_FUN_CAT_1     7\n",
       "EJA_FUN_CAT_2     7\n",
       "EJA_FUN_CAT_3     7\n",
       "EJA_FUN_CAT_4     7\n",
       "EJA_FUN_CAT_5     7\n",
       "EJA_MED_CAT_1     7\n",
       "EJA_MED_CAT_2     7\n",
       "EJA_MED_CAT_3     7\n",
       "EJA_MED_CAT_4     7\n",
       "EJA_MED_CAT_5     7\n",
       "dtype: int64"
      ]
     },
     "execution_count": 11,
     "metadata": {},
     "output_type": "execute_result"
    }
   ],
   "source": [
    "#observando o total de nulos por coluna\n",
    "afd.isna().sum()"
   ]
  },
  {
   "cell_type": "markdown",
   "id": "97f7be6f",
   "metadata": {},
   "source": [
    "Através da visualização dos dados com afd.head() e afd.info() e afd.isna().any().any() foi possível identificar que: \n",
    "\n",
    "- Há 39 colunas e 595 linhas; \n",
    "- A maioria das colunas possuem 588 valores que não são linhas, logo 6 linhas estão vazias (devido ao skiprow, geralmente exibe uma linha a mais no final); \n",
    "- E todas as colunas foram identificadas como object, pois provavelmente há valores não numéricos como o uso do \"--\" ou que estejam vazias."
   ]
  },
  {
   "cell_type": "markdown",
   "id": "2ec38ad4",
   "metadata": {},
   "source": [
    "## Preparação dos dados para análise"
   ]
  },
  {
   "cell_type": "markdown",
   "id": "d3faaacc",
   "metadata": {},
   "source": [
    "A base de dados referesse a uma coleta de dados realizada em 2024 a cerca do indiciador educacional a cerca da adequação da formação docente, logo isso significa que essa base tem por objetivo mapear se os docentes tem uma formação em conformidade entre a disciplina que lecionam e suas respectivas formações acadêmicas. \n",
    "\n",
    "De acordo com a LDB, Lei de Diretrizes e Base da Educação, Lei nº9.394/1996, no artigo 62, que contempla os dados presentes:\n",
    "\n",
    "    Art. 62. A formação de docentes para atuar na educação básica far-se-á em nível superior, em curso de licenciatura, de graduação plena, em universidades e institutos superiores de educação, admitida, como formação mínima para o exercício do magistério na educação infantil e nos 5 (cinco) primeiros anos do ensino fundamental, a oferecida em nível médio na modalidade normal.\n",
    "\n",
    "**Perguntas para os dados:**\n",
    "\n",
    "*Contexto Geral*\n",
    "\n",
    "1. Em qual etapa do ensino, seja ele Ensino Infantil, Fundamental, Médio ou EJA há uma maior disparidade em relação a formação do docente a disciplina que lecionam?\n",
    "2. Em quais zonas, sejam elas  Rural, Urbana (e o total entre ambas), apresenta essa disparidade entre a formação docente e a disciplina que lecionam? \n",
    "3. Em quais dependências adminstrativas podemos observar uma maior ocorrência entre essas disparidades? \n",
    "\n",
    "*Educação Infantil*\n",
    "1. Quais os grupos da Educação Infantil há uma maior incidência em relação a disparidade entre a formação do docente? \n",
    "2. Em qual zona é possível observar um destaque mais expressivo da discrepância entre a formação docente? \n",
    "3. Há alguma relação entre a localização da zona e dependência adminstrativa em realação a Educação Infantil?\n",
    "\n",
    "*Ensino Fundamental*\n",
    "1. Em qual zona o Ensino Fundamental sofre uma maior discrepância entre a formação docente e a disciplina ensinada?\n",
    "2. Em quais dependências admnistritativas há uma maior incidênica dessa discrepância em relação ao Ensino fundamental?  \n",
    "3. Há alguma relação entre a localização da zona e dependência adminstrativa em realação ao Ensino fundamental?\n",
    "4. Ao fazer uma comparação entre os Anos Iniciais e Anos Finais, qual podemos observar que há uma maior dispariadade?\n",
    "\n",
    "*Ensino Médio*\n",
    "\n",
    "1. Em qual zona o Ensino Médio sofre uma maior discrepância entre a formação docente e a disciplina ensinada?\n",
    "2. Em quais dependências admnistritativas há uma maior incidênica dessa discrepância em relação ao Ensino Médio?  \n",
    "3. Há alguma relação entre a localização da zona e dependência adminstrativa em realação ao Ensino Médio?\n",
    "4. Ao fazer uma comparação entre os grupos, qual podemos observar que há uma maior dispariadade?\n",
    "\n",
    "*Educação de Jovens e Adultos* \n",
    "\n",
    "1. Em qual zona a EJA sofre uma maior discrepância entre a formação docente e a disciplina ensinada num total? E analisando os grupos individualmente do EJA Ensino Fundamental e do EJA Ensino Médio separadamente? \n",
    "2. Em quais dependências admnistritativas há uma maior incidênica dessa discrepância em relação a EJA do Ensino Fundamental?  E no Ensino Médio? \n",
    "3. Há alguma relação entre a localização da zona e dependência adminstrativa em realação a EJA do Ensino Fundamental?  E no Ensino Médio? \n",
    "4. Ao fazer uma comparação entre o Ensino Fundamental EJA e Ensino Médio EJA, qual podemos observar que há uma maior dispariadade?\n",
    "\n"
   ]
  },
  {
   "cell_type": "markdown",
   "id": "f2274df1",
   "metadata": {},
   "source": [
    "#### Selecionando dados  \n",
    "\n",
    "As colunas selecionadas para a análise:\n",
    "\n",
    "UNIDGEO, NO_CATEGORIA, NO_DEPENDENCIA, "
   ]
  },
  {
   "cell_type": "code",
   "execution_count": null,
   "id": "b21bf18d",
   "metadata": {},
   "outputs": [],
   "source": [
    "# Dicionários com as colunas selecionadas para análise\n",
    "\n",
    "data_dictionary = pd.DataFrame([\n",
    "    {\n",
    "        'Variável': '',\n",
    "        'Descrição': '',\n",
    "        'Tipo': '', \n",
    "        'Subtipo': ''\n",
    "    },\n",
    "])"
   ]
  },
  {
   "cell_type": "code",
   "execution_count": null,
   "id": "21cdd8db",
   "metadata": {},
   "outputs": [],
   "source": [
    "data_dictionary"
   ]
  },
  {
   "cell_type": "code",
   "execution_count": null,
   "id": "15ecf796",
   "metadata": {},
   "outputs": [],
   "source": []
  }
 ],
 "metadata": {
  "kernelspec": {
   "display_name": "Python 3",
   "language": "python",
   "name": "python3"
  },
  "language_info": {
   "codemirror_mode": {
    "name": "ipython",
    "version": 3
   },
   "file_extension": ".py",
   "mimetype": "text/x-python",
   "name": "python",
   "nbconvert_exporter": "python",
   "pygments_lexer": "ipython3",
   "version": "3.11.9"
  }
 },
 "nbformat": 4,
 "nbformat_minor": 5
}
