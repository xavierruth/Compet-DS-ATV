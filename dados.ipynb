{
 "cells": [
  {
   "cell_type": "markdown",
   "id": "48d249b5",
   "metadata": {},
   "source": [
    "#Compet - Formação 4.0"
   ]
  },
  {
   "cell_type": "code",
   "execution_count": null,
   "id": "ed2710d9",
   "metadata": {},
   "outputs": [],
   "source": [
    "# importando bibliotecas\n",
    "\n"
   ]
  }
 ],
 "metadata": {
  "kernelspec": {
   "display_name": "Python 3",
   "language": "python",
   "name": "python3"
  },
  "language_info": {
   "name": "python",
   "version": "3.11.9"
  }
 },
 "nbformat": 4,
 "nbformat_minor": 5
}
